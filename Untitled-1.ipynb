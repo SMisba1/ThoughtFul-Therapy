{
 "cells": [
  {
   "cell_type": "code",
   "execution_count": null,
   "metadata": {},
   "outputs": [],
   "source": [
    "from keras.applications.inception_v3 import InceptionV3\n",
    "from keras.applications.inception_v3 import preprocess_input\n",
    "from keras.preprocessing import image\n",
    "import numpy as np\n",
    "import os\n",
    "from tqdm import tqdm\n",
    "\n",
    "# Load InceptionV3 model\n",
    "model = InceptionV3(weights='imagenet')\n",
    "model = Model(model.input, model.layers[-2].output)\n",
    "\n",
    "def extract_features(directory):\n",
    "    features = {}\n",
    "    for img_name in tqdm(os.listdir(directory)):\n",
    "        img_path = os.path.join(directory, img_name)\n",
    "        img = image.load_img(img_path, target_size=(299, 299))\n",
    "        img_array = image.img_to_array(img)\n",
    "        img_array = np.expand_dims(img_array, axis=0)\n",
    "        img_array = preprocess_input(img_array)\n",
    "\n",
    "        # Extract feature vector\n",
    "        feature = model.predict(img_array)\n",
    "        features[img_name] = feature\n",
    "    return features\n"
   ]
  }
 ],
 "metadata": {
  "language_info": {
   "name": "python"
  }
 },
 "nbformat": 4,
 "nbformat_minor": 2
}
